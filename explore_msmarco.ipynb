{
 "cells": [
  {
   "cell_type": "code",
   "execution_count": null,
   "metadata": {},
   "outputs": [],
   "source": [
    "import pandas as pd"
   ]
  },
  {
   "cell_type": "code",
   "execution_count": 4,
   "metadata": {},
   "outputs": [
    {
     "data": {
      "text/html": [
       "<div>\n",
       "<style scoped>\n",
       "    .dataframe tbody tr th:only-of-type {\n",
       "        vertical-align: middle;\n",
       "    }\n",
       "\n",
       "    .dataframe tbody tr th {\n",
       "        vertical-align: top;\n",
       "    }\n",
       "\n",
       "    .dataframe thead th {\n",
       "        text-align: right;\n",
       "    }\n",
       "</style>\n",
       "<table border=\"1\" class=\"dataframe\">\n",
       "  <thead>\n",
       "    <tr style=\"text-align: right;\">\n",
       "      <th></th>\n",
       "      <th>qid</th>\n",
       "      <th>q0</th>\n",
       "      <th>pid</th>\n",
       "      <th>rank</th>\n",
       "      <th>score</th>\n",
       "      <th>runstring</th>\n",
       "    </tr>\n",
       "  </thead>\n",
       "  <tbody>\n",
       "    <tr>\n",
       "      <th>0</th>\n",
       "      <td>1185869</td>\n",
       "      <td>Q0</td>\n",
       "      <td>D59221</td>\n",
       "      <td>1</td>\n",
       "      <td>-4.80433</td>\n",
       "      <td>IndriQueryLikelihood</td>\n",
       "    </tr>\n",
       "    <tr>\n",
       "      <th>1</th>\n",
       "      <td>1185869</td>\n",
       "      <td>Q0</td>\n",
       "      <td>D59220</td>\n",
       "      <td>2</td>\n",
       "      <td>-4.92127</td>\n",
       "      <td>IndriQueryLikelihood</td>\n",
       "    </tr>\n",
       "    <tr>\n",
       "      <th>2</th>\n",
       "      <td>1185869</td>\n",
       "      <td>Q0</td>\n",
       "      <td>D2192591</td>\n",
       "      <td>3</td>\n",
       "      <td>-5.05215</td>\n",
       "      <td>IndriQueryLikelihood</td>\n",
       "    </tr>\n",
       "    <tr>\n",
       "      <th>3</th>\n",
       "      <td>1185869</td>\n",
       "      <td>Q0</td>\n",
       "      <td>D2777518</td>\n",
       "      <td>4</td>\n",
       "      <td>-5.05486</td>\n",
       "      <td>IndriQueryLikelihood</td>\n",
       "    </tr>\n",
       "    <tr>\n",
       "      <th>4</th>\n",
       "      <td>1185869</td>\n",
       "      <td>Q0</td>\n",
       "      <td>D2371978</td>\n",
       "      <td>5</td>\n",
       "      <td>-5.07048</td>\n",
       "      <td>IndriQueryLikelihood</td>\n",
       "    </tr>\n",
       "  </tbody>\n",
       "</table>\n",
       "</div>"
      ],
      "text/plain": [
       "       qid  q0       pid  rank    score             runstring\n",
       "0  1185869  Q0    D59221     1 -4.80433  IndriQueryLikelihood\n",
       "1  1185869  Q0    D59220     2 -4.92127  IndriQueryLikelihood\n",
       "2  1185869  Q0  D2192591     3 -5.05215  IndriQueryLikelihood\n",
       "3  1185869  Q0  D2777518     4 -5.05486  IndriQueryLikelihood\n",
       "4  1185869  Q0  D2371978     5 -5.07048  IndriQueryLikelihood"
      ]
     },
     "execution_count": 4,
     "metadata": {},
     "output_type": "execute_result"
    }
   ],
   "source": [
    "df_msmarco = pd.read_csv('msmarco-doctrain-top100', sep='\\s+', names=['qid','q0','pid', 'rank', 'score', 'runstring'])\n",
    "df_msmarco.head(5)"
   ]
  },
  {
   "cell_type": "code",
   "execution_count": null,
   "metadata": {},
   "outputs": [],
   "source": []
  }
 ],
 "metadata": {
  "kernelspec": {
   "display_name": "Python 3",
   "language": "python",
   "name": "python3"
  },
  "language_info": {
   "codemirror_mode": {
    "name": "ipython",
    "version": 3
   },
   "file_extension": ".py",
   "mimetype": "text/x-python",
   "name": "python",
   "nbconvert_exporter": "python",
   "pygments_lexer": "ipython3",
   "version": "3.8.10"
  }
 },
 "nbformat": 4,
 "nbformat_minor": 2
}
