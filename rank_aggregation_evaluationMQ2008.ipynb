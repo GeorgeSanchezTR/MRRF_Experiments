{
 "cells": [
  {
   "cell_type": "code",
   "execution_count": null,
   "metadata": {},
   "outputs": [],
   "source": [
    "# !pip install trectools\n",
    "import pandas as pd\n",
    "import trectools as trec"
   ]
  },
  {
   "cell_type": "code",
   "execution_count": null,
   "metadata": {},
   "outputs": [],
   "source": [
    "results_df = pd.read_csv(\"./MQ2008-agg/result_agg_functions.csv\", sep=\"\\t\")\n",
    "results_df.head(5)"
   ]
  },
  {
   "cell_type": "code",
   "execution_count": null,
   "metadata": {},
   "outputs": [],
   "source": [
    "qrel_df = results_df[[\"qid\", \"docid\", \"relevance\"]].copy()\n",
    "qrel_df['rank'] = qrel_df.groupby('qid')['relevance'].rank(method='dense', ascending=False).astype(int)\n",
    "qrel_df['q0']  = 'Q0'\n",
    "qrel_df['rel'] = qrel_df['relevance']\n",
    "qrel_df['query'] = qrel_df['qid']\n",
    "qrel_df = qrel_df[[\"qid\",\"query\", \"q0\", \"docid\", \"rel\"]]\n",
    "print(qrel_df.head(5))\n",
    "trec_qrel = trec.TrecQrel()\n",
    "trec_qrel.qrels_data = qrel_df.copy()"
   ]
  },
  {
   "cell_type": "code",
   "execution_count": null,
   "metadata": {},
   "outputs": [],
   "source": [
    "# Evaluate RRF\n",
    "run_df_rrf = results_df[[\"qid\", \"docid\", \"rrf\"]].copy()\n",
    "run_df_rrf['rank'] = run_df_rrf.groupby('qid')['rrf'].rank(method='dense', ascending=False).astype(int)\n",
    "run_df_rrf['q0']  = 'Q0'\n",
    "run_df_rrf['score'] = run_df_rrf['rrf']\n",
    "run_df_rrf['system'] = 'rrf'\n",
    "run_df_rrf['query'] = run_df_rrf['qid']\n",
    "run_df_rrf = run_df_rrf[[\"qid\",\"query\",\"q0\", \"docid\",\"rank\" ,\"score\", \"system\"]]\n",
    "# print(run_df_rrf.head(5))\n",
    "\n",
    "# RRF Evaluation\n",
    "run_rrf = trec.TrecRun()\n",
    "run_rrf.run_data = run_df_rrf.copy()\n",
    "rrf_trec_eval = trec.TrecEval(run_rrf, trec_qrel)\n",
    "print(f\"rrd:{rrf_trec_eval.get_relevant_retrieved_documents()}\")\n",
    "for i in range(1,11):\n",
    "    print(f\"ndcg@{i}:{rrf_trec_eval.get_ndcg(depth=i, trec_eval=False)}\")\n",
    "    print(f\"precision@{i}:{rrf_trec_eval.get_precision(depth=i, trec_eval=False)}\")\n",
    "    print(f\"map@{i}:{rrf_trec_eval.get_map(depth=i, trec_eval=False)}\")\n",
    "    \n"
   ]
  },
  {
   "cell_type": "code",
   "execution_count": null,
   "metadata": {},
   "outputs": [],
   "source": [
    "# Evaluate SRRF\n",
    "run_df_srrf = results_df[[\"qid\", \"docid\", \"squared_rrf\"]].copy()\n",
    "run_df_srrf['rank'] = run_df_srrf.groupby('qid')['squared_rrf'].rank(method='dense', ascending=False).astype(int)\n",
    "run_df_srrf['q0']  = 'Q0'\n",
    "run_df_srrf['score'] = run_df_srrf['squared_rrf']\n",
    "run_df_srrf['system'] = 'srrf'\n",
    "run_df_srrf['query'] = run_df_srrf['qid']\n",
    "run_df_srrf = run_df_srrf[[\"qid\",\"query\",\"q0\", \"docid\",\"rank\" ,\"score\", \"system\"]]\n",
    "# print(run_df_srrf.head(5))\n",
    "\n",
    "# SRRF Evaluation\n",
    "run_srrf = trec.TrecRun()\n",
    "run_srrf.run_data = run_df_srrf.copy()\n",
    "srrf_trec_eval = trec.TrecEval(run_srrf, trec_qrel)\n",
    "print(f\"rrd:{srrf_trec_eval.get_relevant_retrieved_documents()}\")\n",
    "for i in range(1,11):\n",
    "    # print(f\"ndcg@{i}:{srrf_trec_eval.get_ndcg(depth=i)}\")\n",
    "    print(f\"ndcg@{i}:{srrf_trec_eval.get_ndcg(depth=i, trec_eval=False)}\")\n",
    "    print(f\"precision@{i}:{srrf_trec_eval.get_precision(depth=i, trec_eval=False)}\")\n",
    "    print(f\"map@{i}:{srrf_trec_eval.get_map(depth=i, trec_eval=False)}\")\n",
    "    "
   ]
  },
  {
   "cell_type": "code",
   "execution_count": null,
   "metadata": {},
   "outputs": [],
   "source": [
    "# Evaluate MRRF\n",
    "run_df_mrrf = results_df[[\"qid\", \"docid\", \"mrrf\"]].copy()\n",
    "run_df_mrrf['rank'] = run_df_mrrf.groupby('qid')['mrrf'].rank(method='dense', ascending=False).astype(int)\n",
    "run_df_mrrf['q0']  = 'Q0'\n",
    "run_df_mrrf['score'] = run_df_mrrf['mrrf']\n",
    "run_df_mrrf['system'] = 'mrrf'\n",
    "run_df_mrrf['query'] = run_df_mrrf['qid']\n",
    "run_df_mrrf = run_df_mrrf[[\"qid\",\"query\",\"q0\", \"docid\",\"rank\", \"score\", \"system\"]]\n",
    "# print(run_df_mrrf.head(5))\n",
    "\n",
    "# MRRF Evaluation\n",
    "run_mrrf = trec.TrecRun()\n",
    "run_mrrf.run_data = run_df_mrrf.copy()\n",
    "mrrf_trec_eval = trec.TrecEval(run_mrrf, trec_qrel)\n",
    "print(f\"rrd:{mrrf_trec_eval.get_relevant_retrieved_documents()}\")\n",
    "for i in range(1,11):\n",
    "    print(f\"ndcg@{i}:{mrrf_trec_eval.get_precision(depth=i, trec_eval=False)}\")\n",
    "    print(f\"precision@{i}:{mrrf_trec_eval.get_precision(depth=i, trec_eval=False)}\")\n",
    "    print(f\"map@{i}:{mrrf_trec_eval.get_map(depth=i, trec_eval=False)}\")\n",
    "    "
   ]
  },
  {
   "cell_type": "code",
   "execution_count": null,
   "metadata": {},
   "outputs": [],
   "source": []
  }
 ],
 "metadata": {
  "kernelspec": {
   "display_name": "Python 3",
   "language": "python",
   "name": "python3"
  },
  "language_info": {
   "codemirror_mode": {
    "name": "ipython",
    "version": 3
   },
   "file_extension": ".py",
   "mimetype": "text/x-python",
   "name": "python",
   "nbconvert_exporter": "python",
   "pygments_lexer": "ipython3",
   "version": "3.8.10"
  }
 },
 "nbformat": 4,
 "nbformat_minor": 2
}
