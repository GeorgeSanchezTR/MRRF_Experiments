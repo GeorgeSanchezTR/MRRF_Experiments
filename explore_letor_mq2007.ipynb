{
 "cells": [
  {
   "cell_type": "code",
   "execution_count": null,
   "metadata": {},
   "outputs": [],
   "source": [
    "# !pip install pytrec_eval\n",
    "# !pip install trectools\n"
   ]
  },
  {
   "cell_type": "code",
   "execution_count": null,
   "metadata": {},
   "outputs": [],
   "source": [
    "import trectools as tr\n",
    "import pandas as pd"
   ]
  },
  {
   "cell_type": "code",
   "execution_count": null,
   "metadata": {},
   "outputs": [],
   "source": [
    "mqdf = pd.read_csv('./MQ2007-agg/agg.txt', sep='\\s+', header=None) #read mq2007 letor 4 file\n",
    "mqdf.head(5)"
   ]
  },
  {
   "cell_type": "code",
   "execution_count": null,
   "metadata": {},
   "outputs": [],
   "source": [
    "# transform mq 2007\n",
    "\n",
    "def ranking_value(x):\n",
    "    if x == 'NULL':\n",
    "        return 0\n",
    "    else:\n",
    "        return x\n",
    "    \n",
    "mqdf['relevance'] = mqdf[0]\n",
    "mqdf['qid'] = mqdf[1].apply(lambda x: x.split(':')[1])\n",
    "for i in range(2, 23):\n",
    "    mqdf['ranking_'+str(i-1)] = mqdf[i].apply(lambda x: ranking_value(x.split(':')[1]))\n",
    "\n",
    "mqdf['docid'] = mqdf[25]\n",
    "ranking_columns = [f\"ranking_{i}\" for i in range(1,22)]\n",
    "ranking_mqdf = mqdf[['qid', 'docid', 'relevance'] + ranking_columns]\n",
    "ranking_mqdf.head(5)"
   ]
  },
  {
   "cell_type": "code",
   "execution_count": null,
   "metadata": {},
   "outputs": [],
   "source": [
    "ranking_mqdf.to_csv('./MQ2007-agg/transformed_agg.csv', sep=\"\\t\" ,index=False)"
   ]
  },
  {
   "cell_type": "code",
   "execution_count": null,
   "metadata": {},
   "outputs": [],
   "source": []
  }
 ],
 "metadata": {
  "kernelspec": {
   "display_name": "Python 3",
   "language": "python",
   "name": "python3"
  },
  "language_info": {
   "codemirror_mode": {
    "name": "ipython",
    "version": 3
   },
   "file_extension": ".py",
   "mimetype": "text/x-python",
   "name": "python",
   "nbconvert_exporter": "python",
   "pygments_lexer": "ipython3",
   "version": "3.8.10"
  }
 },
 "nbformat": 4,
 "nbformat_minor": 2
}
